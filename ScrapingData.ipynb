{
 "cells": [
  {
   "cell_type": "code",
   "execution_count": 60,
   "metadata": {},
   "outputs": [],
   "source": [
    "import requests\n",
    "from bs4 import BeautifulSoup\n",
    "\n",
    "# page = requests.get('https://www.autoscout24.com/lst/lexus/gs-series-(all)?sort=price&desc=0&ustate=N%2CU&cy=NL&fregfrom=2012&atype=C')\n",
    "# soup = BeautifulSoup(page.content, 'html.parser')\n"
   ]
  },
  {
   "cell_type": "code",
   "execution_count": 187,
   "metadata": {},
   "outputs": [],
   "source": [
    "# Get the whole container which contains all info about listed cars\n",
    "car_container = soup.find('div', attrs = {'class': 'cl-list-elements'})\n"
   ]
  },
  {
   "cell_type": "code",
   "execution_count": 188,
   "metadata": {},
   "outputs": [],
   "source": [
    "# Get the list of cars only\n",
    "cars = car_container.find_all(class_ = 'cl-list-element cl-list-element-gap')\n"
   ]
  },
  {
   "cell_type": "code",
   "execution_count": 224,
   "metadata": {},
   "outputs": [],
   "source": [
    "# Extract features\n",
    "# cars[0].find(class_='cldt-price sc-font-xl sc-font-bold').get_text().split('\\n')\n",
    "# cars[0].find(class_='cldt-summary-vehicle-data').get_text().split('\\n')\n",
    "prices = [price.find(class_='cldt-price sc-font-xl sc-font-bold').get_text().split('\\n') for price in cars]\n",
    "features = [feature.find(class_='cldt-summary-vehicle-data').get_text().split('\\n') for feature in cars]\n"
   ]
  },
  {
   "cell_type": "code",
   "execution_count": null,
   "metadata": {},
   "outputs": [],
   "source": []
  }
 ],
 "metadata": {
  "kernelspec": {
   "display_name": "Python 3",
   "language": "python",
   "name": "python3"
  },
  "language_info": {
   "codemirror_mode": {
    "name": "ipython",
    "version": 3
   },
   "file_extension": ".py",
   "mimetype": "text/x-python",
   "name": "python",
   "nbconvert_exporter": "python",
   "pygments_lexer": "ipython3",
   "version": "3.7.6"
  }
 },
 "nbformat": 4,
 "nbformat_minor": 4
}
